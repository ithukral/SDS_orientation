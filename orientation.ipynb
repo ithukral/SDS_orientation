{
  "nbformat": 4,
  "nbformat_minor": 0,
  "metadata": {
    "colab": {
      "provenance": [],
      "authorship_tag": "ABX9TyMRd+eIKKqendJiE4/IcVYT",
      "include_colab_link": true
    },
    "kernelspec": {
      "name": "python3",
      "display_name": "Python 3"
    },
    "language_info": {
      "name": "python"
    }
  },
  "cells": [
    {
      "cell_type": "markdown",
      "metadata": {
        "id": "view-in-github",
        "colab_type": "text"
      },
      "source": [
        "<a href=\"https://colab.research.google.com/github/ithukral/SDS_orientation/blob/main/orientation.ipynb\" target=\"_parent\"><img src=\"https://colab.research.google.com/assets/colab-badge.svg\" alt=\"Open In Colab\"/></a>"
      ]
    },
    {
      "cell_type": "code",
      "source": [
        "# As usual, load needed packages and methods\n",
        "from datascience import *\n",
        "import matplotlib\n",
        "%matplotlib inline\n",
        "import matplotlib.pyplot as plots\n",
        "plots.style.use('fivethirtyeight')\n",
        "import numpy as np\n",
        "import pandas as pd\n",
        "import math\n",
        "np.set_printoptions(threshold=50)\n",
        "import folium\n",
        "import matplotlib.pyplot as plt"
      ],
      "metadata": {
        "id": "BKbwxQ7YRzDw"
      },
      "execution_count": 35,
      "outputs": []
    },
    {
      "cell_type": "code",
      "execution_count": 1,
      "metadata": {
        "colab": {
          "base_uri": "https://localhost:8080/"
        },
        "id": "EUXifbHrQp2K",
        "outputId": "0d2ec708-4d7a-45aa-da27-aa522a697e4e"
      },
      "outputs": [
        {
          "output_type": "stream",
          "name": "stdout",
          "text": [
            "Mounted at /content/drive/\n",
            "/content/drive/My Drive/Colab Notebooks\n",
            "/content/drive/My Drive/Colab Notebooks\n"
          ]
        }
      ],
      "source": [
        "from google.colab import drive\n",
        "drive.mount(\"/content/drive/\")\n",
        "%cd '/content/drive/My Drive/Colab Notebooks'\n",
        "!pwd #Prints the present working directory"
      ]
    },
    {
      "cell_type": "code",
      "source": [
        "from google.colab import files\n",
        "uploaded = files.upload()"
      ],
      "metadata": {
        "colab": {
          "base_uri": "https://localhost:8080/",
          "height": 73
        },
        "id": "5z11xoXpRipg",
        "outputId": "af70b90a-7e62-46bd-f34b-b84d3b2a99d7"
      },
      "execution_count": 2,
      "outputs": [
        {
          "output_type": "display_data",
          "data": {
            "text/plain": [
              "<IPython.core.display.HTML object>"
            ],
            "text/html": [
              "\n",
              "     <input type=\"file\" id=\"files-04d50f54-6ed0-40ac-bc1e-ce2a08d6734e\" name=\"files[]\" multiple disabled\n",
              "        style=\"border:none\" />\n",
              "     <output id=\"result-04d50f54-6ed0-40ac-bc1e-ce2a08d6734e\">\n",
              "      Upload widget is only available when the cell has been executed in the\n",
              "      current browser session. Please rerun this cell to enable.\n",
              "      </output>\n",
              "      <script>// Copyright 2017 Google LLC\n",
              "//\n",
              "// Licensed under the Apache License, Version 2.0 (the \"License\");\n",
              "// you may not use this file except in compliance with the License.\n",
              "// You may obtain a copy of the License at\n",
              "//\n",
              "//      http://www.apache.org/licenses/LICENSE-2.0\n",
              "//\n",
              "// Unless required by applicable law or agreed to in writing, software\n",
              "// distributed under the License is distributed on an \"AS IS\" BASIS,\n",
              "// WITHOUT WARRANTIES OR CONDITIONS OF ANY KIND, either express or implied.\n",
              "// See the License for the specific language governing permissions and\n",
              "// limitations under the License.\n",
              "\n",
              "/**\n",
              " * @fileoverview Helpers for google.colab Python module.\n",
              " */\n",
              "(function(scope) {\n",
              "function span(text, styleAttributes = {}) {\n",
              "  const element = document.createElement('span');\n",
              "  element.textContent = text;\n",
              "  for (const key of Object.keys(styleAttributes)) {\n",
              "    element.style[key] = styleAttributes[key];\n",
              "  }\n",
              "  return element;\n",
              "}\n",
              "\n",
              "// Max number of bytes which will be uploaded at a time.\n",
              "const MAX_PAYLOAD_SIZE = 100 * 1024;\n",
              "\n",
              "function _uploadFiles(inputId, outputId) {\n",
              "  const steps = uploadFilesStep(inputId, outputId);\n",
              "  const outputElement = document.getElementById(outputId);\n",
              "  // Cache steps on the outputElement to make it available for the next call\n",
              "  // to uploadFilesContinue from Python.\n",
              "  outputElement.steps = steps;\n",
              "\n",
              "  return _uploadFilesContinue(outputId);\n",
              "}\n",
              "\n",
              "// This is roughly an async generator (not supported in the browser yet),\n",
              "// where there are multiple asynchronous steps and the Python side is going\n",
              "// to poll for completion of each step.\n",
              "// This uses a Promise to block the python side on completion of each step,\n",
              "// then passes the result of the previous step as the input to the next step.\n",
              "function _uploadFilesContinue(outputId) {\n",
              "  const outputElement = document.getElementById(outputId);\n",
              "  const steps = outputElement.steps;\n",
              "\n",
              "  const next = steps.next(outputElement.lastPromiseValue);\n",
              "  return Promise.resolve(next.value.promise).then((value) => {\n",
              "    // Cache the last promise value to make it available to the next\n",
              "    // step of the generator.\n",
              "    outputElement.lastPromiseValue = value;\n",
              "    return next.value.response;\n",
              "  });\n",
              "}\n",
              "\n",
              "/**\n",
              " * Generator function which is called between each async step of the upload\n",
              " * process.\n",
              " * @param {string} inputId Element ID of the input file picker element.\n",
              " * @param {string} outputId Element ID of the output display.\n",
              " * @return {!Iterable<!Object>} Iterable of next steps.\n",
              " */\n",
              "function* uploadFilesStep(inputId, outputId) {\n",
              "  const inputElement = document.getElementById(inputId);\n",
              "  inputElement.disabled = false;\n",
              "\n",
              "  const outputElement = document.getElementById(outputId);\n",
              "  outputElement.innerHTML = '';\n",
              "\n",
              "  const pickedPromise = new Promise((resolve) => {\n",
              "    inputElement.addEventListener('change', (e) => {\n",
              "      resolve(e.target.files);\n",
              "    });\n",
              "  });\n",
              "\n",
              "  const cancel = document.createElement('button');\n",
              "  inputElement.parentElement.appendChild(cancel);\n",
              "  cancel.textContent = 'Cancel upload';\n",
              "  const cancelPromise = new Promise((resolve) => {\n",
              "    cancel.onclick = () => {\n",
              "      resolve(null);\n",
              "    };\n",
              "  });\n",
              "\n",
              "  // Wait for the user to pick the files.\n",
              "  const files = yield {\n",
              "    promise: Promise.race([pickedPromise, cancelPromise]),\n",
              "    response: {\n",
              "      action: 'starting',\n",
              "    }\n",
              "  };\n",
              "\n",
              "  cancel.remove();\n",
              "\n",
              "  // Disable the input element since further picks are not allowed.\n",
              "  inputElement.disabled = true;\n",
              "\n",
              "  if (!files) {\n",
              "    return {\n",
              "      response: {\n",
              "        action: 'complete',\n",
              "      }\n",
              "    };\n",
              "  }\n",
              "\n",
              "  for (const file of files) {\n",
              "    const li = document.createElement('li');\n",
              "    li.append(span(file.name, {fontWeight: 'bold'}));\n",
              "    li.append(span(\n",
              "        `(${file.type || 'n/a'}) - ${file.size} bytes, ` +\n",
              "        `last modified: ${\n",
              "            file.lastModifiedDate ? file.lastModifiedDate.toLocaleDateString() :\n",
              "                                    'n/a'} - `));\n",
              "    const percent = span('0% done');\n",
              "    li.appendChild(percent);\n",
              "\n",
              "    outputElement.appendChild(li);\n",
              "\n",
              "    const fileDataPromise = new Promise((resolve) => {\n",
              "      const reader = new FileReader();\n",
              "      reader.onload = (e) => {\n",
              "        resolve(e.target.result);\n",
              "      };\n",
              "      reader.readAsArrayBuffer(file);\n",
              "    });\n",
              "    // Wait for the data to be ready.\n",
              "    let fileData = yield {\n",
              "      promise: fileDataPromise,\n",
              "      response: {\n",
              "        action: 'continue',\n",
              "      }\n",
              "    };\n",
              "\n",
              "    // Use a chunked sending to avoid message size limits. See b/62115660.\n",
              "    let position = 0;\n",
              "    do {\n",
              "      const length = Math.min(fileData.byteLength - position, MAX_PAYLOAD_SIZE);\n",
              "      const chunk = new Uint8Array(fileData, position, length);\n",
              "      position += length;\n",
              "\n",
              "      const base64 = btoa(String.fromCharCode.apply(null, chunk));\n",
              "      yield {\n",
              "        response: {\n",
              "          action: 'append',\n",
              "          file: file.name,\n",
              "          data: base64,\n",
              "        },\n",
              "      };\n",
              "\n",
              "      let percentDone = fileData.byteLength === 0 ?\n",
              "          100 :\n",
              "          Math.round((position / fileData.byteLength) * 100);\n",
              "      percent.textContent = `${percentDone}% done`;\n",
              "\n",
              "    } while (position < fileData.byteLength);\n",
              "  }\n",
              "\n",
              "  // All done.\n",
              "  yield {\n",
              "    response: {\n",
              "      action: 'complete',\n",
              "    }\n",
              "  };\n",
              "}\n",
              "\n",
              "scope.google = scope.google || {};\n",
              "scope.google.colab = scope.google.colab || {};\n",
              "scope.google.colab._files = {\n",
              "  _uploadFiles,\n",
              "  _uploadFilesContinue,\n",
              "};\n",
              "})(self);\n",
              "</script> "
            ]
          },
          "metadata": {}
        },
        {
          "output_type": "stream",
          "name": "stdout",
          "text": [
            "Saving 2023-06-13-survey.csv to 2023-06-13-survey.csv\n"
          ]
        }
      ]
    },
    {
      "cell_type": "code",
      "source": [
        "tech_survey = Table.read_table(\"/content/2023-06-13-survey.csv\")"
      ],
      "metadata": {
        "id": "0G69XHbySiqv"
      },
      "execution_count": 4,
      "outputs": []
    },
    {
      "cell_type": "code",
      "source": [
        "tech_survey.show(10)"
      ],
      "metadata": {
        "colab": {
          "base_uri": "https://localhost:8080/",
          "height": 583
        },
        "id": "-JWFM4pwSt9X",
        "outputId": "690b7be4-22f6-4181-b776-ac4b3190b588"
      },
      "execution_count": 5,
      "outputs": [
        {
          "output_type": "display_data",
          "data": {
            "text/plain": [
              "<IPython.core.display.HTML object>"
            ],
            "text/html": [
              "<table border=\"1\" class=\"dataframe\">\n",
              "    <thead>\n",
              "        <tr>\n",
              "            <th>Timestamp</th> <th>Operating System</th> <th>CPU Cycle Rate (in GHz)</th> <th>CPU Number of Cores (int)</th> <th>RAM (in GB)</th> <th>Hard Drive Size (in GB)</th> <th>GPU (short description as a string)</th> <th>GPU CUDA Number of Cores (int)</th>\n",
              "        </tr>\n",
              "    </thead>\n",
              "    <tbody>\n",
              "        <tr>\n",
              "            <td>6/13/2023 13:21:08</td> <td>Windows            </td> <td>3                      </td> <td>8                        </td> <td>16         </td> <td>935                    </td> <td>NVIDIA GeForce RTX 2060 with Max-Q Design</td> <td>5888                          </td>\n",
              "        </tr>\n",
              "        <tr>\n",
              "            <td>6/13/2023 13:23:33</td> <td>I use Mac and Linux</td> <td>2133                   </td> <td>2                        </td> <td>8          </td> <td>250                    </td> <td>Intel Iris Plus Graphics                 </td> <td>1                             </td>\n",
              "        </tr>\n",
              "        <tr>\n",
              "            <td>6/13/2023 13:24:29</td> <td>MacOS              </td> <td>3.2                    </td> <td>8                        </td> <td>8          </td> <td>256                    </td> <td>M1                                       </td> <td>8                             </td>\n",
              "        </tr>\n",
              "        <tr>\n",
              "            <td>6/13/2023 13:25:04</td> <td>MacOS              </td> <td>3.6                    </td> <td>12                       </td> <td>32         </td> <td>1000                   </td> <td>M2 Max                                   </td> <td>38                            </td>\n",
              "        </tr>\n",
              "        <tr>\n",
              "            <td>6/13/2023 13:25:31</td> <td>Windows            </td> <td>2.3                    </td> <td>8                        </td> <td>16         </td> <td>500                    </td> <td>NVIDIA GeForce RTX 3050 Ti Laptop GPU    </td> <td>2560                          </td>\n",
              "        </tr>\n",
              "        <tr>\n",
              "            <td>6/13/2023 13:25:58</td> <td>Windows            </td> <td>3.3                    </td> <td>4                        </td> <td>16         </td> <td>475                    </td> <td>NVIDA GeForce RTX 3050 Ti Laptop GPU     </td> <td>2560                          </td>\n",
              "        </tr>\n",
              "        <tr>\n",
              "            <td>6/13/2023 13:26:11</td> <td>Windows            </td> <td>1.8                    </td> <td>4                        </td> <td>8          </td> <td>237                    </td> <td>Intel(R) UHD Graphics 620                </td> <td>0                             </td>\n",
              "        </tr>\n",
              "        <tr>\n",
              "            <td>6/13/2023 13:26:34</td> <td>MacOS              </td> <td>1.4                    </td> <td>8                        </td> <td>8          </td> <td>251                    </td> <td>Intel Iris Plus Graphics 645             </td> <td>4                             </td>\n",
              "        </tr>\n",
              "        <tr>\n",
              "            <td>6/13/2023 13:27:13</td> <td>MacOS              </td> <td>2.3                    </td> <td>4                        </td> <td>8          </td> <td>250                    </td> <td>Intel Iris Plus Graphics 655             </td> <td>48                            </td>\n",
              "        </tr>\n",
              "        <tr>\n",
              "            <td>6/13/2023 13:27:19</td> <td>MacOS              </td> <td>3.49                   </td> <td>8                        </td> <td>8          </td> <td>245                    </td> <td>Apple M2 GPU                             </td> <td>8                             </td>\n",
              "        </tr>\n",
              "    </tbody>\n",
              "</table>\n",
              "<p>... (52 rows omitted)</p>"
            ]
          },
          "metadata": {}
        }
      ]
    },
    {
      "cell_type": "code",
      "source": [
        "df = pd.read_csv(\"2023-06-13-survey.csv\")"
      ],
      "metadata": {
        "id": "XuCjbRN9YB-P"
      },
      "execution_count": 26,
      "outputs": []
    },
    {
      "cell_type": "code",
      "source": [
        "\n",
        "y_hist = df['CPU Number of Cores (int)'].plot(kind='hist', edgecolor='black')\n",
        "y_hist.set_title('Histogram of CPU Number of Cores')\n",
        "y_hist.set_xlabel('Number of Cores')\n",
        "\n",
        "plt.show()\n"
      ],
      "metadata": {
        "colab": {
          "base_uri": "https://localhost:8080/",
          "height": 508
        },
        "id": "TDN8Q6-6XMXK",
        "outputId": "91a7a797-e746-4394-e457-f1e6f80f0153"
      },
      "execution_count": 36,
      "outputs": [
        {
          "output_type": "display_data",
          "data": {
            "text/plain": [
              "<Figure size 640x480 with 1 Axes>"
            ],
            "image/png": "[encoded data removed]"
          },
          "metadata": {}
        }
      ]
    }
  ]
}